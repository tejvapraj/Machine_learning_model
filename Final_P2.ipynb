{
  "nbformat": 4,
  "nbformat_minor": 0,
  "metadata": {
    "colab": {
      "provenance": [],
      "authorship_tag": "ABX9TyOmNKrwr6cFBWoHLM9J6dIt",
      "include_colab_link": true
    },
    "kernelspec": {
      "name": "python3",
      "display_name": "Python 3"
    },
    "language_info": {
      "name": "python"
    }
  },
  "cells": [
    {
      "cell_type": "markdown",
      "metadata": {
        "id": "view-in-github",
        "colab_type": "text"
      },
      "source": [
        "<a href=\"https://colab.research.google.com/github/tejvapraj/Machine_learning_model/blob/main/Final_P2.ipynb\" target=\"_parent\"><img src=\"https://colab.research.google.com/assets/colab-badge.svg\" alt=\"Open In Colab\"/></a>"
      ]
    },
    {
      "cell_type": "code",
      "execution_count": 1,
      "metadata": {
        "colab": {
          "base_uri": "https://localhost:8080/"
        },
        "id": "VnTC4_wrkrH4",
        "outputId": "cfecbf31-c3c2-487c-eb4b-4f312117abdd"
      },
      "outputs": [
        {
          "output_type": "stream",
          "name": "stdout",
          "text": [
            "Mounted at /content/cdrive\n"
          ]
        }
      ],
      "source": [
        "from google.colab import drive\n",
        "import pandas as pd\n",
        "import regex as re\n",
        "import numpy as np\n",
        "drive.mount('/content/cdrive')"
      ]
    },
    {
      "cell_type": "code",
      "source": [
        "from sklearn.preprocessing import LabelEncoder\n",
        "from sklearn.ensemble import RandomForestClassifier\n",
        "from sklearn.metrics import accuracy_score, classification_report"
      ],
      "metadata": {
        "id": "CJkxbXcrksM-"
      },
      "execution_count": 2,
      "outputs": []
    },
    {
      "cell_type": "code",
      "source": [
        "# Step 2: Load and Preprocess Data\n",
        "# Load the datasets\n",
        "train_df = pd.read_excel(r'/content/cdrive/My Drive/Prediction of Placement Status Data/01 Train Data.xlsx')\n",
        "test_df = pd.read_excel(r'/content/cdrive/My Drive/Prediction of Placement Status Data/02 Test Data.xlsx')"
      ],
      "metadata": {
        "id": "9azfYxYRk16W"
      },
      "execution_count": 3,
      "outputs": []
    },
    {
      "cell_type": "code",
      "source": [
        "import pandas as pd\n",
        "from sklearn.preprocessing import LabelEncoder\n",
        "\n",
        "\n",
        "# Step 1: Drop non-essential columns\n",
        "train_df = train_df.drop(['First Name', 'Email ID', 'Year of Graduation'], axis=1)\n",
        "test_df = test_df.drop(['First Name', 'Email ID', 'Year of Graduation'], axis=1)\n",
        "\n",
        "# Step 2: Convert categorical variables to numerical using Label Encoding\n",
        "label_encoders = {}\n",
        "categorical_columns = ['Price Tier', 'Ticket Type', 'Attendee #', 'Group', 'Order Type', 'Currency', 'Attendee Status', 'College Name', 'Designation']\n",
        "\n",
        "for col in categorical_columns:\n",
        "    le = LabelEncoder()\n",
        "    le.fit(train_df[col])\n",
        "    train_df[col] = le.transform(train_df[col])\n",
        "    test_df[col] = le.transform(test_df[col])\n",
        "    label_encoders[col] = le\n",
        "\n",
        "# Step 3: One-hot encode specific columns\n",
        "train_df = pd.get_dummies(train_df, columns=['How did you come to know about this event?', 'Specify in \"Others\" (how did you come to know about this event)'])\n",
        "test_df = pd.get_dummies(test_df, columns=['How did you come to know about this event?', 'Specify in \"Others\" (how did you come to know about this event)'])\n",
        "train_df = pd.get_dummies(train_df, columns=['Fees Paid'])\n",
        "test_df = pd.get_dummies(test_df, columns=['Fees Paid'])\n",
        "\n",
        "# Step 4: Label encode Placement Status\n",
        "le_placement = LabelEncoder()\n",
        "train_df['Placement Status'] = le_placement.fit_transform(train_df['Placement Status'])\n",
        "test_df['Placement Status'] = le_placement.transform(test_df['Placement Status'])\n",
        "\n",
        "# Assuming 'Placement Status' is the target column\n",
        "train_df['Placement Status'].fillna(train_df['Placement Status'].mode()[0], inplace=True)\n",
        "test_df['Placement Status'].fillna(test_df['Placement Status'].mode()[0], inplace=True)\n",
        "\n",
        "\n",
        "train_df['Placement Status'] = train_df['Placement Status'].map({0: 0, 1: 1, 2: 1})\n",
        "test_df['Placement Status'] = test_df['Placement Status'].map({0: 0, 1: 1, 2: 1})\n",
        "\n",
        "\n",
        "# Step 5: Define Features and Target Variable\n",
        "X_train = train_df.drop('Placement Status', axis=1)\n",
        "y_train = train_df['Placement Status']\n",
        "\n",
        "X_test = test_df.drop('Placement Status', axis=1)\n",
        "y_test = test_df['Placement Status']\n"
      ],
      "metadata": {
        "id": "MTy8cTM3k4_M"
      },
      "execution_count": 4,
      "outputs": []
    },
    {
      "cell_type": "code",
      "source": [
        "# Check for Missing Values\n",
        "missing_values_train = train_df.isnull().sum()\n",
        "missing_values_test = test_df.isnull().sum()\n",
        "\n",
        "# Check Target Variable Labels\n",
        "unique_labels_train = train_df['Placement Status'].unique()\n",
        "unique_labels_test = test_df['Placement Status'].unique()\n",
        "\n",
        "print(\"Missing Values in Training Data:\")\n",
        "print(missing_values_train)\n",
        "\n",
        "print(\"\\nMissing Values in Test Data:\")\n",
        "print(missing_values_test)\n",
        "\n",
        "print(\"\\nUnique Labels in Training Data:\")\n",
        "print(unique_labels_train)\n",
        "\n",
        "print(\"\\nUnique Labels in Test Data:\")\n",
        "print(unique_labels_test)\n",
        "\n"
      ],
      "metadata": {
        "colab": {
          "base_uri": "https://localhost:8080/"
        },
        "id": "boCrVC7XlED_",
        "outputId": "c2f83a7e-fb86-4a3a-c20d-8dfc55c1d6c3"
      },
      "execution_count": 5,
      "outputs": [
        {
          "output_type": "stream",
          "name": "stdout",
          "text": [
            "Missing Values in Training Data:\n",
            "Quantity                                                                               0\n",
            "Price Tier                                                                             0\n",
            "Ticket Type                                                                            0\n",
            "Attendee #                                                                             0\n",
            "Group                                                                                  0\n",
            "                                                                                      ..\n",
            "Specify in \"Others\" (how did you come to know about this event)_Telegram               0\n",
            "Specify in \"Others\" (how did you come to know about this event)_Twitter                0\n",
            "Specify in \"Others\" (how did you come to know about this event)_You tube               0\n",
            "Specify in \"Others\" (how did you come to know about this event)_Yuva Sena/Shiv Sena    0\n",
            "Fees Paid_0.0                                                                          0\n",
            "Length: 128, dtype: int64\n",
            "\n",
            "Missing Values in Test Data:\n",
            "Quantity                                                                               0\n",
            "Price Tier                                                                             0\n",
            "Ticket Type                                                                            0\n",
            "Attendee #                                                                             0\n",
            "Group                                                                                  0\n",
            "                                                                                      ..\n",
            "Specify in \"Others\" (how did you come to know about this event)_Team entity            0\n",
            "Specify in \"Others\" (how did you come to know about this event)_Twitter                0\n",
            "Specify in \"Others\" (how did you come to know about this event)_You tube               0\n",
            "Specify in \"Others\" (how did you come to know about this event)_Yuva Sena/Shiv Sena    0\n",
            "Fees Paid_0.0                                                                          0\n",
            "Length: 109, dtype: int64\n",
            "\n",
            "Unique Labels in Training Data:\n",
            "[1 0]\n",
            "\n",
            "Unique Labels in Test Data:\n",
            "[1]\n"
          ]
        }
      ]
    },
    {
      "cell_type": "code",
      "source": [
        "# Check the size of the training dataset\n",
        "train_rows, train_columns = train_df.shape\n",
        "\n",
        "# Check the size of the test dataset\n",
        "test_rows, test_columns = test_df.shape\n",
        "\n",
        "print(f\"Training Data Size: {train_rows} rows, {train_columns} columns\")\n",
        "print(f\"Test Data Size: {test_rows} rows, {test_columns} columns\")\n"
      ],
      "metadata": {
        "colab": {
          "base_uri": "https://localhost:8080/"
        },
        "id": "-Jz-0V-fpNFs",
        "outputId": "01425a8c-5d5f-4ed0-cf90-dbbb41cd9ae0"
      },
      "execution_count": 6,
      "outputs": [
        {
          "output_type": "stream",
          "name": "stdout",
          "text": [
            "Training Data Size: 4894 rows, 128 columns\n",
            "Test Data Size: 3796 rows, 109 columns\n"
          ]
        }
      ]
    },
    {
      "cell_type": "code",
      "source": [
        "# Step 1: Identify Missing Columns\n",
        "missing_columns = [col for col in train_df.columns if col not in test_df.columns]\n",
        "\n",
        "# Step 2: Add Missing Columns to Test Data\n",
        "test_df = pd.concat([test_df, pd.DataFrame(0, index=test_df.index, columns=missing_columns)], axis=1)\n",
        "\n",
        "# Step 3: Re-Check Sizes\n",
        "print(f\"Training Data Size: {train_df.shape[0]} rows, {train_df.shape[1]} columns\")\n",
        "print(f\"Test Data Size: {test_df.shape[0]} rows, {test_df.shape[1]} columns\")\n"
      ],
      "metadata": {
        "colab": {
          "base_uri": "https://localhost:8080/"
        },
        "id": "NFZbcU8Jrp3b",
        "outputId": "3a05f265-af62-41dc-cf28-d388d5bfface"
      },
      "execution_count": 7,
      "outputs": [
        {
          "output_type": "stream",
          "name": "stdout",
          "text": [
            "Training Data Size: 4894 rows, 128 columns\n",
            "Test Data Size: 3796 rows, 128 columns\n"
          ]
        }
      ]
    },
    {
      "cell_type": "code",
      "source": [
        "\n",
        "unique_labels_train = train_df['Placement Status'].unique()\n",
        "unique_labels_test = test_df['Placement Status'].unique()\n",
        "\n",
        "print(\"Unique Labels in Training Data:\")\n",
        "print(unique_labels_train)\n",
        "\n",
        "print(\"\\nUnique Labels in Test Data:\")\n",
        "print(unique_labels_test)\n"
      ],
      "metadata": {
        "colab": {
          "base_uri": "https://localhost:8080/"
        },
        "id": "N5pWJ-5jsDyI",
        "outputId": "56e099ea-20b8-47a7-fd52-8b01ece44706"
      },
      "execution_count": 8,
      "outputs": [
        {
          "output_type": "stream",
          "name": "stdout",
          "text": [
            "Unique Labels in Training Data:\n",
            "[1 0]\n",
            "\n",
            "Unique Labels in Test Data:\n",
            "[1]\n"
          ]
        }
      ]
    },
    {
      "cell_type": "code",
      "source": [
        "import re\n",
        "\n",
        "# List of columns to remove\n",
        "columns_to_remove = [\n",
        "    'How did you come to know about this event?_Youtube | Facebook | Instagram | Whatsapp',\n",
        "    'How did you come to know about this event?_Facebook | Instagram | Whatsapp | Email',\n",
        "    'How did you come to know about this event?_Youtube | Facebook | Instagram | LinkedIn | Whatsapp | Email | Cloud Counselage Website',\n",
        "    'How did you come to know about this event?_Youtube | Facebook | Instagram | LinkedIn | Whatsapp | Email | Telegram | Twitter | Friend/ Classmate',\n",
        "    'Specify in \"Others\" (how did you come to know about this event)_From Academy',\n",
        "    'How did you come to know about this event?_Whatsapp | Telegram',\n",
        "    'How did you come to know about this event?_Whatsapp | Email | Others',\n",
        "    'How did you come to know about this event?_Youtube | Facebook | Instagram | LinkedIn | Email | Cloud Counselage Website',\n",
        "    'How did you come to know about this event?_Instagram | LinkedIn | Cloud Counselage Website',\n",
        "    'How did you come to know about this event?_Youtube | Instagram | Whatsapp | Email | Cloud Counselage Website',\n",
        "    'Specify in \"Others\" (how did you come to know about this event)_Attend',\n",
        "    'How did you come to know about this event?_LinkedIn | Cloud Counselage Website',\n",
        "    'How did you come to know about this event?_Youtube | LinkedIn | Cloud Counselage Website',\n",
        "    'How did you come to know about this event?_Youtube | Facebook | Instagram | Email | Cloud Counselage Website',\n",
        "    'How did you come to know about this event?_Whatsapp | Email | Cloud Counselage Website | SPOC/ College Professor',\n",
        "    'How did you come to know about this event?_Youtube | Whatsapp | Email | Cloud Counselage Website',\n",
        "    'How did you come to know about this event?_Youtube | Instagram | LinkedIn | Whatsapp | Email',\n",
        "    'Specify in \"Others\" (how did you come to know about this event)_Telegram',\n",
        "    'Specify in \"Others\" (how did you come to know about this event)_Institute'\n",
        "]\n",
        "\n",
        "# Escape special characters\n",
        "columns_to_remove = [re.escape(col) for col in columns_to_remove]\n",
        "\n",
        "# Create a pattern to match columns\n",
        "pattern = '|'.join(columns_to_remove)\n",
        "\n",
        "# Filter columns using pattern\n",
        "train_df = train_df.filter(regex=f'^(?!{pattern}$)')\n",
        "\n"
      ],
      "metadata": {
        "id": "tI1eC80GxoVh"
      },
      "execution_count": 9,
      "outputs": []
    },
    {
      "cell_type": "code",
      "source": [
        "\n",
        "# Check the number of features in each dataset\n",
        "num_features_train = X_train.shape[1]\n",
        "num_features_test = X_test.shape[1]\n",
        "\n",
        "# Ensure the number of features match\n",
        "if num_features_train != num_features_test:\n",
        "    # If they don't match, you need to handle the mismatch\n",
        "    print(f\"The number of features in the training set ({num_features_train}) \"\n",
        "          f\"and test set ({num_features_test}) do not match.\")\n",
        "else:\n",
        "    # If they match, you can proceed with training and evaluation\n",
        "    clf = RandomForestClassifier(n_estimators=100, random_state=42)\n",
        "    clf.fit(X_train, y_train)\n",
        "    y_pred = clf.predict(X_test)"
      ],
      "metadata": {
        "colab": {
          "base_uri": "https://localhost:8080/"
        },
        "id": "gdvzIUasxzwY",
        "outputId": "8add3c59-dd1e-4054-9fb2-a6cda6b229ac"
      },
      "execution_count": 10,
      "outputs": [
        {
          "output_type": "stream",
          "name": "stdout",
          "text": [
            "The number of features in the training set (127) and test set (108) do not match.\n"
          ]
        }
      ]
    },
    {
      "cell_type": "code",
      "source": [
        "print(\"Number of features in training set:\", len(train_df.columns))\n",
        "print(\"Number of features in test set:\", len(test_df.columns))"
      ],
      "metadata": {
        "colab": {
          "base_uri": "https://localhost:8080/"
        },
        "id": "zpxN3BhjyUb3",
        "outputId": "f5918bdf-ddd4-46de-a604-79a390aa2658"
      },
      "execution_count": 11,
      "outputs": [
        {
          "output_type": "stream",
          "name": "stdout",
          "text": [
            "Number of features in training set: 102\n",
            "Number of features in test set: 128\n"
          ]
        }
      ]
    },
    {
      "cell_type": "code",
      "source": [
        "\n",
        "num_missing_columns = num_features_train - num_features_test\n",
        "X_test = np.hstack((X_test, np.zeros((X_test.shape[0], num_missing_columns))))"
      ],
      "metadata": {
        "id": "nHfFeN4Yyafm"
      },
      "execution_count": 12,
      "outputs": []
    },
    {
      "cell_type": "code",
      "source": [
        "# Step 1: Identify the Mismatch\n",
        "train_columns = set(train_df.columns)\n",
        "test_columns = set(test_df.columns)\n",
        "# Find columns present in train but not in test\n",
        "extra_columns_in_train = train_columns - test_columns\n",
        "\n",
        "# Find columns present in test but not in train\n",
        "extra_columns_in_test = test_columns - train_columns"
      ],
      "metadata": {
        "id": "WIfRLt5Iybtp"
      },
      "execution_count": 13,
      "outputs": []
    },
    {
      "cell_type": "code",
      "source": [
        "# Print the columns in the DataFrame\n",
        "print(train_df.columns)"
      ],
      "metadata": {
        "colab": {
          "base_uri": "https://localhost:8080/"
        },
        "id": "BxLp9UGeyenv",
        "outputId": "a7b6b7ec-a5c5-4634-dc45-778d18158a53"
      },
      "execution_count": 14,
      "outputs": [
        {
          "output_type": "stream",
          "name": "stdout",
          "text": [
            "Index(['Quantity', 'Price Tier', 'Ticket Type', 'Attendee #', 'Group',\n",
            "       'Order Type', 'Currency', 'Total Paid', 'Eventbrite Fees',\n",
            "       'Eventbrite Payment Processing',\n",
            "       ...\n",
            "       'How did you come to know about this event?_Youtube | Whatsapp | Email',\n",
            "       'How did you come to know about this event?_Youtube | Whatsapp | Friend/ Classmate',\n",
            "       'Specify in \"Others\" (how did you come to know about this event)_College',\n",
            "       'Specify in \"Others\" (how did you come to know about this event)_Friends',\n",
            "       'Specify in \"Others\" (how did you come to know about this event)_Interested',\n",
            "       'Specify in \"Others\" (how did you come to know about this event)_Team entity',\n",
            "       'Specify in \"Others\" (how did you come to know about this event)_Twitter ',\n",
            "       'Specify in \"Others\" (how did you come to know about this event)_You tube',\n",
            "       'Specify in \"Others\" (how did you come to know about this event)_Yuva Sena/Shiv Sena',\n",
            "       'Fees Paid_0.0'],\n",
            "      dtype='object', length=102)\n"
          ]
        }
      ]
    },
    {
      "cell_type": "code",
      "source": [
        "# Identify extra columns in test set\n",
        "extra_columns = set(test_df.columns) - set(train_df.columns)\n",
        "\n",
        "# Remove extra columns from test set\n",
        "test_df = test_df.drop(columns=extra_columns)\n",
        "\n",
        "# Now both datasets should have the same columns\n"
      ],
      "metadata": {
        "id": "FWEvmtifyl7-"
      },
      "execution_count": 15,
      "outputs": []
    },
    {
      "cell_type": "code",
      "source": [
        "# Check the size of the training set\n",
        "train_size = train_df.shape\n",
        "print(\"Training Set Size:\", train_size)\n",
        "\n",
        "# Check the size of the test set\n",
        "test_size = test_df.shape\n",
        "print(\"Test Set Size:\", test_size)"
      ],
      "metadata": {
        "colab": {
          "base_uri": "https://localhost:8080/"
        },
        "id": "k-eQBX7iyoqZ",
        "outputId": "b7b8f03f-48d4-4917-da64-59469ce61023"
      },
      "execution_count": 16,
      "outputs": [
        {
          "output_type": "stream",
          "name": "stdout",
          "text": [
            "Training Set Size: (4894, 102)\n",
            "Test Set Size: (3796, 102)\n"
          ]
        }
      ]
    },
    {
      "cell_type": "code",
      "source": [
        "print(\"Number of features in training set:\", len(train_df.columns))\n",
        "print(\"Number of features in test set:\", len(test_df.columns))"
      ],
      "metadata": {
        "colab": {
          "base_uri": "https://localhost:8080/"
        },
        "id": "2fypWSgBytbd",
        "outputId": "42fd7a03-1580-4bda-9d6c-c01387f7d007"
      },
      "execution_count": 17,
      "outputs": [
        {
          "output_type": "stream",
          "name": "stdout",
          "text": [
            "Number of features in training set: 102\n",
            "Number of features in test set: 102\n"
          ]
        }
      ]
    },
    {
      "cell_type": "code",
      "source": [
        "# Identify the Mismatch\n",
        "train_columns = set(train_df.columns)\n",
        "test_columns = set(test_df.columns)\n",
        "# Find columns present in train but not in test\n",
        "extra_columns_in_train = train_columns - test_columns\n",
        "\n",
        "# Find columns present in test but not in train\n",
        "extra_columns_in_test = test_columns - train_columns"
      ],
      "metadata": {
        "id": "WecRqbMPyBz7"
      },
      "execution_count": 18,
      "outputs": []
    },
    {
      "cell_type": "code",
      "source": [
        "mismatched_columns_train = set(train_df.columns) - set(test_df.columns)\n",
        "mismatched_columns_test = set(test_df.columns) - set(train_df.columns)\n",
        "\n",
        "print(\"Columns in training set but not in test set:\", mismatched_columns_train)\n",
        "print(\"Columns in test set but not in training set:\", mismatched_columns_test)"
      ],
      "metadata": {
        "colab": {
          "base_uri": "https://localhost:8080/"
        },
        "id": "Tx_OF6LgyFni",
        "outputId": "1707f015-c3cc-43f6-fc1d-9d9c8cdc039f"
      },
      "execution_count": 19,
      "outputs": [
        {
          "output_type": "stream",
          "name": "stdout",
          "text": [
            "Columns in training set but not in test set: set()\n",
            "Columns in test set but not in training set: set()\n"
          ]
        }
      ]
    },
    {
      "cell_type": "code",
      "source": [
        "\n",
        "actual_labels = test_df['Placement Status'].tolist()\n",
        "print(actual_labels)"
      ],
      "metadata": {
        "colab": {
          "base_uri": "https://localhost:8080/"
        },
        "id": "dGDgCW3X0YnX",
        "outputId": "ec635826-3607-46d4-bb09-3e8a35f8125e"
      },
      "execution_count": 20,
      "outputs": [
        {
          "output_type": "stream",
          "name": "stdout",
          "text": [
            "[1, 1, 1, 1, 1, 1, 1, 1, 1, 1, 1, 1, 1, 1, 1, 1, 1, 1, 1, 1, 1, 1, 1, 1, 1, 1, 1, 1, 1, 1, 1, 1, 1, 1, 1, 1, 1, 1, 1, 1, 1, 1, 1, 1, 1, 1, 1, 1, 1, 1, 1, 1, 1, 1, 1, 1, 1, 1, 1, 1, 1, 1, 1, 1, 1, 1, 1, 1, 1, 1, 1, 1, 1, 1, 1, 1, 1, 1, 1, 1, 1, 1, 1, 1, 1, 1, 1, 1, 1, 1, 1, 1, 1, 1, 1, 1, 1, 1, 1, 1, 1, 1, 1, 1, 1, 1, 1, 1, 1, 1, 1, 1, 1, 1, 1, 1, 1, 1, 1, 1, 1, 1, 1, 1, 1, 1, 1, 1, 1, 1, 1, 1, 1, 1, 1, 1, 1, 1, 1, 1, 1, 1, 1, 1, 1, 1, 1, 1, 1, 1, 1, 1, 1, 1, 1, 1, 1, 1, 1, 1, 1, 1, 1, 1, 1, 1, 1, 1, 1, 1, 1, 1, 1, 1, 1, 1, 1, 1, 1, 1, 1, 1, 1, 1, 1, 1, 1, 1, 1, 1, 1, 1, 1, 1, 1, 1, 1, 1, 1, 1, 1, 1, 1, 1, 1, 1, 1, 1, 1, 1, 1, 1, 1, 1, 1, 1, 1, 1, 1, 1, 1, 1, 1, 1, 1, 1, 1, 1, 1, 1, 1, 1, 1, 1, 1, 1, 1, 1, 1, 1, 1, 1, 1, 1, 1, 1, 1, 1, 1, 1, 1, 1, 1, 1, 1, 1, 1, 1, 1, 1, 1, 1, 1, 1, 1, 1, 1, 1, 1, 1, 1, 1, 1, 1, 1, 1, 1, 1, 1, 1, 1, 1, 1, 1, 1, 1, 1, 1, 1, 1, 1, 1, 1, 1, 1, 1, 1, 1, 1, 1, 1, 1, 1, 1, 1, 1, 1, 1, 1, 1, 1, 1, 1, 1, 1, 1, 1, 1, 1, 1, 1, 1, 1, 1, 1, 1, 1, 1, 1, 1, 1, 1, 1, 1, 1, 1, 1, 1, 1, 1, 1, 1, 1, 1, 1, 1, 1, 1, 1, 1, 1, 1, 1, 1, 1, 1, 1, 1, 1, 1, 1, 1, 1, 1, 1, 1, 1, 1, 1, 1, 1, 1, 1, 1, 1, 1, 1, 1, 1, 1, 1, 1, 1, 1, 1, 1, 1, 1, 1, 1, 1, 1, 1, 1, 1, 1, 1, 1, 1, 1, 1, 1, 1, 1, 1, 1, 1, 1, 1, 1, 1, 1, 1, 1, 1, 1, 1, 1, 1, 1, 1, 1, 1, 1, 1, 1, 1, 1, 1, 1, 1, 1, 1, 1, 1, 1, 1, 1, 1, 1, 1, 1, 1, 1, 1, 1, 1, 1, 1, 1, 1, 1, 1, 1, 1, 1, 1, 1, 1, 1, 1, 1, 1, 1, 1, 1, 1, 1, 1, 1, 1, 1, 1, 1, 1, 1, 1, 1, 1, 1, 1, 1, 1, 1, 1, 1, 1, 1, 1, 1, 1, 1, 1, 1, 1, 1, 1, 1, 1, 1, 1, 1, 1, 1, 1, 1, 1, 1, 1, 1, 1, 1, 1, 1, 1, 1, 1, 1, 1, 1, 1, 1, 1, 1, 1, 1, 1, 1, 1, 1, 1, 1, 1, 1, 1, 1, 1, 1, 1, 1, 1, 1, 1, 1, 1, 1, 1, 1, 1, 1, 1, 1, 1, 1, 1, 1, 1, 1, 1, 1, 1, 1, 1, 1, 1, 1, 1, 1, 1, 1, 1, 1, 1, 1, 1, 1, 1, 1, 1, 1, 1, 1, 1, 1, 1, 1, 1, 1, 1, 1, 1, 1, 1, 1, 1, 1, 1, 1, 1, 1, 1, 1, 1, 1, 1, 1, 1, 1, 1, 1, 1, 1, 1, 1, 1, 1, 1, 1, 1, 1, 1, 1, 1, 1, 1, 1, 1, 1, 1, 1, 1, 1, 1, 1, 1, 1, 1, 1, 1, 1, 1, 1, 1, 1, 1, 1, 1, 1, 1, 1, 1, 1, 1, 1, 1, 1, 1, 1, 1, 1, 1, 1, 1, 1, 1, 1, 1, 1, 1, 1, 1, 1, 1, 1, 1, 1, 1, 1, 1, 1, 1, 1, 1, 1, 1, 1, 1, 1, 1, 1, 1, 1, 1, 1, 1, 1, 1, 1, 1, 1, 1, 1, 1, 1, 1, 1, 1, 1, 1, 1, 1, 1, 1, 1, 1, 1, 1, 1, 1, 1, 1, 1, 1, 1, 1, 1, 1, 1, 1, 1, 1, 1, 1, 1, 1, 1, 1, 1, 1, 1, 1, 1, 1, 1, 1, 1, 1, 1, 1, 1, 1, 1, 1, 1, 1, 1, 1, 1, 1, 1, 1, 1, 1, 1, 1, 1, 1, 1, 1, 1, 1, 1, 1, 1, 1, 1, 1, 1, 1, 1, 1, 1, 1, 1, 1, 1, 1, 1, 1, 1, 1, 1, 1, 1, 1, 1, 1, 1, 1, 1, 1, 1, 1, 1, 1, 1, 1, 1, 1, 1, 1, 1, 1, 1, 1, 1, 1, 1, 1, 1, 1, 1, 1, 1, 1, 1, 1, 1, 1, 1, 1, 1, 1, 1, 1, 1, 1, 1, 1, 1, 1, 1, 1, 1, 1, 1, 1, 1, 1, 1, 1, 1, 1, 1, 1, 1, 1, 1, 1, 1, 1, 1, 1, 1, 1, 1, 1, 1, 1, 1, 1, 1, 1, 1, 1, 1, 1, 1, 1, 1, 1, 1, 1, 1, 1, 1, 1, 1, 1, 1, 1, 1, 1, 1, 1, 1, 1, 1, 1, 1, 1, 1, 1, 1, 1, 1, 1, 1, 1, 1, 1, 1, 1, 1, 1, 1, 1, 1, 1, 1, 1, 1, 1, 1, 1, 1, 1, 1, 1, 1, 1, 1, 1, 1, 1, 1, 1, 1, 1, 1, 1, 1, 1, 1, 1, 1, 1, 1, 1, 1, 1, 1, 1, 1, 1, 1, 1, 1, 1, 1, 1, 1, 1, 1, 1, 1, 1, 1, 1, 1, 1, 1, 1, 1, 1, 1, 1, 1, 1, 1, 1, 1, 1, 1, 1, 1, 1, 1, 1, 1, 1, 1, 1, 1, 1, 1, 1, 1, 1, 1, 1, 1, 1, 1, 1, 1, 1, 1, 1, 1, 1, 1, 1, 1, 1, 1, 1, 1, 1, 1, 1, 1, 1, 1, 1, 1, 1, 1, 1, 1, 1, 1, 1, 1, 1, 1, 1, 1, 1, 1, 1, 1, 1, 1, 1, 1, 1, 1, 1, 1, 1, 1, 1, 1, 1, 1, 1, 1, 1, 1, 1, 1, 1, 1, 1, 1, 1, 1, 1, 1, 1, 1, 1, 1, 1, 1, 1, 1, 1, 1, 1, 1, 1, 1, 1, 1, 1, 1, 1, 1, 1, 1, 1, 1, 1, 1, 1, 1, 1, 1, 1, 1, 1, 1, 1, 1, 1, 1, 1, 1, 1, 1, 1, 1, 1, 1, 1, 1, 1, 1, 1, 1, 1, 1, 1, 1, 1, 1, 1, 1, 1, 1, 1, 1, 1, 1, 1, 1, 1, 1, 1, 1, 1, 1, 1, 1, 1, 1, 1, 1, 1, 1, 1, 1, 1, 1, 1, 1, 1, 1, 1, 1, 1, 1, 1, 1, 1, 1, 1, 1, 1, 1, 1, 1, 1, 1, 1, 1, 1, 1, 1, 1, 1, 1, 1, 1, 1, 1, 1, 1, 1, 1, 1, 1, 1, 1, 1, 1, 1, 1, 1, 1, 1, 1, 1, 1, 1, 1, 1, 1, 1, 1, 1, 1, 1, 1, 1, 1, 1, 1, 1, 1, 1, 1, 1, 1, 1, 1, 1, 1, 1, 1, 1, 1, 1, 1, 1, 1, 1, 1, 1, 1, 1, 1, 1, 1, 1, 1, 1, 1, 1, 1, 1, 1, 1, 1, 1, 1, 1, 1, 1, 1, 1, 1, 1, 1, 1, 1, 1, 1, 1, 1, 1, 1, 1, 1, 1, 1, 1, 1, 1, 1, 1, 1, 1, 1, 1, 1, 1, 1, 1, 1, 1, 1, 1, 1, 1, 1, 1, 1, 1, 1, 1, 1, 1, 1, 1, 1, 1, 1, 1, 1, 1, 1, 1, 1, 1, 1, 1, 1, 1, 1, 1, 1, 1, 1, 1, 1, 1, 1, 1, 1, 1, 1, 1, 1, 1, 1, 1, 1, 1, 1, 1, 1, 1, 1, 1, 1, 1, 1, 1, 1, 1, 1, 1, 1, 1, 1, 1, 1, 1, 1, 1, 1, 1, 1, 1, 1, 1, 1, 1, 1, 1, 1, 1, 1, 1, 1, 1, 1, 1, 1, 1, 1, 1, 1, 1, 1, 1, 1, 1, 1, 1, 1, 1, 1, 1, 1, 1, 1, 1, 1, 1, 1, 1, 1, 1, 1, 1, 1, 1, 1, 1, 1, 1, 1, 1, 1, 1, 1, 1, 1, 1, 1, 1, 1, 1, 1, 1, 1, 1, 1, 1, 1, 1, 1, 1, 1, 1, 1, 1, 1, 1, 1, 1, 1, 1, 1, 1, 1, 1, 1, 1, 1, 1, 1, 1, 1, 1, 1, 1, 1, 1, 1, 1, 1, 1, 1, 1, 1, 1, 1, 1, 1, 1, 1, 1, 1, 1, 1, 1, 1, 1, 1, 1, 1, 1, 1, 1, 1, 1, 1, 1, 1, 1, 1, 1, 1, 1, 1, 1, 1, 1, 1, 1, 1, 1, 1, 1, 1, 1, 1, 1, 1, 1, 1, 1, 1, 1, 1, 1, 1, 1, 1, 1, 1, 1, 1, 1, 1, 1, 1, 1, 1, 1, 1, 1, 1, 1, 1, 1, 1, 1, 1, 1, 1, 1, 1, 1, 1, 1, 1, 1, 1, 1, 1, 1, 1, 1, 1, 1, 1, 1, 1, 1, 1, 1, 1, 1, 1, 1, 1, 1, 1, 1, 1, 1, 1, 1, 1, 1, 1, 1, 1, 1, 1, 1, 1, 1, 1, 1, 1, 1, 1, 1, 1, 1, 1, 1, 1, 1, 1, 1, 1, 1, 1, 1, 1, 1, 1, 1, 1, 1, 1, 1, 1, 1, 1, 1, 1, 1, 1, 1, 1, 1, 1, 1, 1, 1, 1, 1, 1, 1, 1, 1, 1, 1, 1, 1, 1, 1, 1, 1, 1, 1, 1, 1, 1, 1, 1, 1, 1, 1, 1, 1, 1, 1, 1, 1, 1, 1, 1, 1, 1, 1, 1, 1, 1, 1, 1, 1, 1, 1, 1, 1, 1, 1, 1, 1, 1, 1, 1, 1, 1, 1, 1, 1, 1, 1, 1, 1, 1, 1, 1, 1, 1, 1, 1, 1, 1, 1, 1, 1, 1, 1, 1, 1, 1, 1, 1, 1, 1, 1, 1, 1, 1, 1, 1, 1, 1, 1, 1, 1, 1, 1, 1, 1, 1, 1, 1, 1, 1, 1, 1, 1, 1, 1, 1, 1, 1, 1, 1, 1, 1, 1, 1, 1, 1, 1, 1, 1, 1, 1, 1, 1, 1, 1, 1, 1, 1, 1, 1, 1, 1, 1, 1, 1, 1, 1, 1, 1, 1, 1, 1, 1, 1, 1, 1, 1, 1, 1, 1, 1, 1, 1, 1, 1, 1, 1, 1, 1, 1, 1, 1, 1, 1, 1, 1, 1, 1, 1, 1, 1, 1, 1, 1, 1, 1, 1, 1, 1, 1, 1, 1, 1, 1, 1, 1, 1, 1, 1, 1, 1, 1, 1, 1, 1, 1, 1, 1, 1, 1, 1, 1, 1, 1, 1, 1, 1, 1, 1, 1, 1, 1, 1, 1, 1, 1, 1, 1, 1, 1, 1, 1, 1, 1, 1, 1, 1, 1, 1, 1, 1, 1, 1, 1, 1, 1, 1, 1, 1, 1, 1, 1, 1, 1, 1, 1, 1, 1, 1, 1, 1, 1, 1, 1, 1, 1, 1, 1, 1, 1, 1, 1, 1, 1, 1, 1, 1, 1, 1, 1, 1, 1, 1, 1, 1, 1, 1, 1, 1, 1, 1, 1, 1, 1, 1, 1, 1, 1, 1, 1, 1, 1, 1, 1, 1, 1, 1, 1, 1, 1, 1, 1, 1, 1, 1, 1, 1, 1, 1, 1, 1, 1, 1, 1, 1, 1, 1, 1, 1, 1, 1, 1, 1, 1, 1, 1, 1, 1, 1, 1, 1, 1, 1, 1, 1, 1, 1, 1, 1, 1, 1, 1, 1, 1, 1, 1, 1, 1, 1, 1, 1, 1, 1, 1, 1, 1, 1, 1, 1, 1, 1, 1, 1, 1, 1, 1, 1, 1, 1, 1, 1, 1, 1, 1, 1, 1, 1, 1, 1, 1, 1, 1, 1, 1, 1, 1, 1, 1, 1, 1, 1, 1, 1, 1, 1, 1, 1, 1, 1, 1, 1, 1, 1, 1, 1, 1, 1, 1, 1, 1, 1, 1, 1, 1, 1, 1, 1, 1, 1, 1, 1, 1, 1, 1, 1, 1, 1, 1, 1, 1, 1, 1, 1, 1, 1, 1, 1, 1, 1, 1, 1, 1, 1, 1, 1, 1, 1, 1, 1, 1, 1, 1, 1, 1, 1, 1, 1, 1, 1, 1, 1, 1, 1, 1, 1, 1, 1, 1, 1, 1, 1, 1, 1, 1, 1, 1, 1, 1, 1, 1, 1, 1, 1, 1, 1, 1, 1, 1, 1, 1, 1, 1, 1, 1, 1, 1, 1, 1, 1, 1, 1, 1, 1, 1, 1, 1, 1, 1, 1, 1, 1, 1, 1, 1, 1, 1, 1, 1, 1, 1, 1, 1, 1, 1, 1, 1, 1, 1, 1, 1, 1, 1, 1, 1, 1, 1, 1, 1, 1, 1, 1, 1, 1, 1, 1, 1, 1, 1, 1, 1, 1, 1, 1, 1, 1, 1, 1, 1, 1, 1, 1, 1, 1, 1, 1, 1, 1, 1, 1, 1, 1, 1, 1, 1, 1, 1, 1, 1, 1, 1, 1, 1, 1, 1, 1, 1, 1, 1, 1, 1, 1, 1, 1, 1, 1, 1, 1, 1, 1, 1, 1, 1, 1, 1, 1, 1, 1, 1, 1, 1, 1, 1, 1, 1, 1, 1, 1, 1, 1, 1, 1, 1, 1, 1, 1, 1, 1, 1, 1, 1, 1, 1, 1, 1, 1, 1, 1, 1, 1, 1, 1, 1, 1, 1, 1, 1, 1, 1, 1, 1, 1, 1, 1, 1, 1, 1, 1, 1, 1, 1, 1, 1, 1, 1, 1, 1, 1, 1, 1, 1, 1, 1, 1, 1, 1, 1, 1, 1, 1, 1, 1, 1, 1, 1, 1, 1, 1, 1, 1, 1, 1, 1, 1, 1, 1, 1, 1, 1, 1, 1, 1, 1, 1, 1, 1, 1, 1, 1, 1, 1, 1, 1, 1, 1, 1, 1, 1, 1, 1, 1, 1, 1, 1, 1, 1, 1, 1, 1, 1, 1, 1, 1, 1, 1, 1, 1, 1, 1, 1, 1, 1, 1, 1, 1, 1, 1, 1, 1, 1, 1, 1, 1, 1, 1, 1, 1, 1, 1, 1, 1, 1, 1, 1, 1, 1, 1, 1, 1, 1, 1, 1, 1, 1, 1, 1, 1, 1, 1, 1, 1, 1, 1, 1, 1, 1, 1, 1, 1, 1, 1, 1, 1, 1, 1, 1, 1, 1, 1, 1, 1, 1, 1, 1, 1, 1, 1, 1, 1, 1, 1, 1, 1, 1, 1, 1, 1, 1, 1, 1, 1, 1, 1, 1, 1, 1, 1, 1, 1, 1, 1, 1, 1, 1, 1, 1, 1, 1, 1, 1, 1, 1, 1, 1, 1, 1, 1, 1, 1, 1, 1, 1, 1, 1, 1, 1, 1, 1, 1, 1, 1, 1, 1, 1, 1, 1, 1, 1, 1, 1, 1, 1, 1, 1, 1, 1, 1, 1, 1, 1, 1, 1, 1, 1, 1, 1, 1, 1, 1, 1, 1, 1, 1, 1, 1, 1, 1, 1, 1, 1, 1, 1, 1, 1, 1, 1, 1, 1, 1, 1, 1, 1, 1, 1, 1, 1, 1, 1, 1, 1, 1, 1, 1, 1, 1, 1, 1, 1, 1, 1, 1, 1, 1, 1, 1, 1, 1, 1, 1, 1, 1, 1, 1, 1, 1, 1, 1, 1, 1, 1, 1, 1, 1, 1, 1, 1, 1, 1, 1, 1, 1, 1, 1, 1, 1, 1, 1, 1, 1, 1, 1, 1, 1, 1, 1, 1, 1, 1, 1, 1, 1, 1, 1, 1, 1, 1, 1, 1, 1, 1, 1, 1, 1, 1, 1, 1, 1, 1, 1, 1, 1, 1, 1, 1, 1, 1, 1, 1, 1, 1, 1, 1, 1, 1, 1, 1, 1, 1, 1, 1, 1, 1, 1, 1, 1, 1, 1, 1, 1, 1, 1, 1, 1, 1, 1, 1, 1, 1, 1, 1, 1, 1, 1, 1, 1, 1, 1, 1, 1, 1, 1, 1, 1, 1, 1, 1, 1, 1, 1, 1, 1, 1, 1, 1, 1, 1, 1, 1, 1, 1, 1, 1, 1, 1, 1, 1, 1, 1, 1, 1, 1, 1, 1, 1, 1, 1, 1, 1, 1, 1, 1, 1, 1, 1, 1, 1, 1, 1, 1, 1, 1, 1, 1, 1, 1, 1, 1, 1, 1, 1, 1, 1, 1, 1, 1, 1, 1, 1, 1, 1, 1, 1, 1, 1, 1, 1, 1, 1, 1, 1, 1, 1, 1, 1, 1, 1, 1, 1, 1, 1, 1, 1, 1, 1, 1, 1, 1, 1, 1, 1, 1, 1, 1, 1, 1, 1, 1, 1, 1, 1, 1, 1, 1, 1, 1, 1, 1, 1, 1, 1, 1, 1, 1, 1, 1, 1, 1, 1, 1, 1, 1, 1, 1, 1, 1, 1, 1, 1, 1, 1, 1, 1, 1, 1, 1, 1, 1, 1, 1, 1, 1, 1, 1, 1, 1, 1, 1, 1, 1, 1, 1, 1, 1, 1, 1, 1, 1, 1, 1, 1, 1, 1, 1, 1, 1, 1, 1, 1, 1, 1, 1, 1, 1, 1, 1, 1, 1, 1, 1, 1, 1, 1, 1, 1, 1, 1, 1, 1, 1, 1, 1, 1, 1, 1, 1, 1, 1, 1, 1, 1, 1, 1, 1, 1, 1, 1, 1, 1, 1, 1, 1, 1, 1, 1, 1, 1, 1, 1, 1, 1, 1, 1, 1, 1, 1, 1, 1, 1, 1, 1, 1, 1, 1, 1, 1, 1, 1, 1, 1, 1, 1, 1, 1, 1, 1, 1, 1, 1, 1, 1, 1, 1, 1, 1, 1, 1, 1, 1, 1, 1, 1, 1, 1, 1, 1, 1, 1, 1, 1, 1, 1, 1, 1, 1, 1, 1, 1, 1, 1, 1, 1, 1, 1, 1, 1, 1, 1, 1, 1, 1, 1, 1, 1, 1, 1, 1, 1, 1, 1, 1, 1, 1, 1, 1, 1, 1, 1, 1, 1, 1, 1, 1, 1, 1, 1, 1, 1, 1, 1, 1, 1, 1, 1, 1, 1, 1, 1, 1, 1, 1, 1, 1, 1, 1, 1, 1, 1, 1, 1, 1, 1, 1, 1, 1, 1, 1, 1, 1, 1, 1, 1, 1, 1, 1, 1, 1, 1, 1, 1, 1, 1, 1, 1, 1, 1, 1, 1, 1, 1, 1, 1, 1, 1, 1, 1, 1, 1, 1, 1, 1, 1, 1, 1, 1, 1, 1, 1, 1, 1, 1, 1, 1, 1, 1, 1, 1, 1, 1, 1, 1, 1, 1, 1, 1, 1, 1, 1, 1, 1, 1, 1, 1, 1, 1, 1, 1, 1, 1, 1, 1, 1, 1, 1, 1, 1, 1, 1, 1, 1, 1, 1, 1, 1, 1, 1, 1, 1, 1, 1, 1, 1, 1, 1, 1, 1, 1, 1, 1, 1, 1, 1, 1, 1, 1, 1, 1, 1, 1, 1, 1, 1, 1, 1, 1, 1, 1, 1, 1, 1, 1, 1, 1, 1, 1, 1, 1, 1, 1, 1, 1, 1, 1, 1, 1, 1, 1, 1, 1, 1, 1, 1, 1, 1, 1, 1, 1, 1, 1, 1, 1, 1, 1, 1, 1, 1, 1, 1, 1, 1, 1, 1, 1, 1, 1, 1, 1, 1, 1, 1, 1, 1, 1, 1, 1, 1, 1, 1, 1, 1, 1, 1, 1, 1, 1, 1, 1, 1, 1, 1, 1, 1, 1, 1, 1, 1, 1, 1, 1, 1, 1, 1, 1, 1, 1, 1, 1, 1, 1, 1, 1, 1, 1, 1, 1, 1, 1, 1, 1, 1, 1, 1, 1, 1, 1, 1, 1, 1, 1, 1, 1, 1, 1, 1, 1, 1, 1, 1, 1, 1, 1, 1, 1, 1, 1, 1, 1, 1, 1, 1, 1, 1, 1, 1, 1, 1, 1, 1, 1, 1, 1, 1, 1, 1, 1, 1, 1, 1, 1, 1, 1, 1, 1, 1, 1, 1, 1, 1, 1, 1, 1, 1, 1, 1, 1, 1, 1, 1, 1, 1, 1, 1, 1, 1, 1, 1, 1, 1, 1, 1, 1, 1, 1, 1, 1, 1, 1, 1, 1, 1, 1, 1, 1, 1, 1, 1, 1, 1, 1, 1, 1, 1, 1, 1, 1, 1, 1, 1, 1, 1, 1, 1, 1, 1, 1, 1, 1, 1, 1, 1, 1, 1, 1, 1, 1, 1, 1, 1, 1, 1, 1, 1, 1, 1, 1, 1, 1, 1, 1, 1, 1, 1, 1, 1, 1, 1, 1, 1, 1, 1, 1, 1, 1, 1, 1, 1, 1, 1, 1, 1, 1, 1, 1, 1, 1, 1, 1, 1, 1, 1, 1, 1, 1, 1, 1, 1, 1, 1, 1, 1, 1, 1, 1, 1, 1, 1, 1, 1, 1, 1, 1, 1, 1, 1, 1, 1, 1, 1, 1, 1, 1, 1, 1, 1, 1, 1, 1, 1, 1, 1, 1, 1, 1, 1, 1, 1, 1, 1, 1, 1, 1, 1, 1, 1, 1, 1, 1, 1, 1, 1, 1, 1, 1, 1, 1, 1, 1, 1, 1, 1, 1, 1, 1, 1, 1, 1, 1, 1, 1, 1, 1, 1, 1, 1, 1, 1, 1, 1, 1, 1, 1, 1, 1, 1, 1, 1, 1, 1, 1, 1, 1, 1, 1, 1, 1, 1, 1, 1, 1, 1, 1, 1, 1, 1, 1, 1, 1, 1, 1, 1, 1, 1, 1, 1, 1, 1, 1, 1, 1, 1, 1, 1, 1, 1, 1, 1, 1, 1, 1, 1, 1, 1, 1, 1, 1, 1, 1, 1, 1, 1, 1, 1, 1, 1, 1, 1, 1, 1, 1, 1, 1, 1, 1, 1, 1, 1, 1, 1, 1, 1, 1, 1, 1, 1, 1, 1, 1, 1, 1, 1, 1, 1, 1, 1, 1, 1, 1, 1, 1, 1, 1, 1, 1, 1, 1, 1, 1, 1, 1, 1, 1, 1, 1, 1, 1, 1, 1, 1, 1, 1, 1, 1, 1, 1, 1, 1, 1, 1, 1, 1, 1, 1, 1, 1, 1, 1, 1, 1, 1, 1, 1, 1, 1, 1, 1, 1, 1, 1, 1, 1, 1, 1, 1, 1, 1, 1, 1, 1, 1, 1, 1, 1, 1, 1, 1, 1, 1, 1, 1, 1, 1, 1, 1, 1, 1, 1, 1, 1, 1, 1, 1, 1, 1, 1, 1, 1, 1, 1, 1, 1, 1, 1, 1, 1, 1, 1, 1, 1, 1, 1, 1, 1, 1, 1, 1, 1, 1, 1, 1, 1, 1, 1, 1, 1, 1, 1, 1, 1, 1, 1, 1, 1, 1, 1, 1, 1, 1, 1, 1, 1, 1, 1, 1, 1, 1, 1, 1, 1, 1, 1, 1, 1, 1, 1, 1, 1, 1, 1, 1, 1, 1, 1, 1, 1, 1, 1, 1, 1, 1, 1, 1, 1, 1, 1, 1, 1, 1, 1, 1, 1, 1, 1, 1, 1, 1, 1]\n"
          ]
        }
      ]
    },
    {
      "cell_type": "code",
      "source": [
        "from imblearn.over_sampling import SMOTE\n",
        "from sklearn.model_selection import train_test_split\n",
        "from collections import Counter\n",
        "\n",
        "# Apply SMOTE\n",
        "smote = SMOTE(random_state=42)\n",
        "X_resampled, y_resampled = smote.fit_resample(X_train, y_train)\n",
        "\n",
        "# Check the class distribution after resampling\n",
        "print(\"Class distribution after resampling:\", Counter(y_resampled))\n",
        "\n"
      ],
      "metadata": {
        "colab": {
          "base_uri": "https://localhost:8080/"
        },
        "id": "qkMm3Qcyj066",
        "outputId": "5ca67cdc-54b8-4cd5-a9e8-fb5bb4ff952c"
      },
      "execution_count": 21,
      "outputs": [
        {
          "output_type": "stream",
          "name": "stdout",
          "text": [
            "Class distribution after resampling: Counter({1: 4162, 0: 4162})\n"
          ]
        }
      ]
    },
    {
      "cell_type": "code",
      "source": [
        "from sklearn.model_selection import train_test_split\n",
        "\n",
        "# Step 6: Split Data into Training and Testing Sets\n",
        "X_train, X_test, y_train, y_test = train_test_split(X_train, y_train, test_size=0.2, random_state=42)"
      ],
      "metadata": {
        "id": "OF7zqSLna__Y"
      },
      "execution_count": 22,
      "outputs": []
    },
    {
      "cell_type": "code",
      "source": [
        "import pandas as pd\n",
        "\n",
        "class_distribution = train_df['Placement Status'].value_counts()\n",
        "\n",
        "print(class_distribution)\n",
        "\n",
        "class_distribution = test_df['Placement Status'].value_counts()\n",
        "\n",
        "print(class_distribution)\n"
      ],
      "metadata": {
        "colab": {
          "base_uri": "https://localhost:8080/"
        },
        "id": "V1BZZZIwebrO",
        "outputId": "d2feff4e-b664-4532-ce31-0e3f07eb1a38"
      },
      "execution_count": 23,
      "outputs": [
        {
          "output_type": "stream",
          "name": "stdout",
          "text": [
            "1    4162\n",
            "0     732\n",
            "Name: Placement Status, dtype: int64\n",
            "1    3796\n",
            "Name: Placement Status, dtype: int64\n"
          ]
        }
      ]
    },
    {
      "cell_type": "code",
      "source": [
        "import matplotlib.pyplot as plt\n",
        "\n",
        "class_distribution.plot(kind='bar')\n",
        "plt.title('Class Distribution')\n",
        "plt.xlabel('Class')\n",
        "plt.ylabel('Count')\n",
        "plt.show()\n"
      ],
      "metadata": {
        "colab": {
          "base_uri": "https://localhost:8080/",
          "height": 467
        },
        "id": "g-hFXAfhe0hS",
        "outputId": "81695fbb-8ccf-45e7-8e72-7327ea318318"
      },
      "execution_count": 24,
      "outputs": [
        {
          "output_type": "display_data",
          "data": {
            "text/plain": [
              "<Figure size 640x480 with 1 Axes>"
            ],
            "image/png": "[encoded data removed]"
          },
          "metadata": {}
        }
      ]
    },
    {
      "cell_type": "code",
      "source": [
        "from sklearn.ensemble import RandomForestClassifier\n",
        "\n",
        "class_weights = {0: 1, 1: 10}  # Adjust the weights as needed\n",
        "rf_classifier = RandomForestClassifier(class_weight=class_weights, random_state=42)\n",
        "\n",
        "# Train the model\n",
        "rf_classifier.fit(X_train, y_train)\n",
        "\n",
        "# Evaluate the model\n",
        "train_accuracy = rf_classifier.score(X_train, y_train)\n",
        "test_accuracy = rf_classifier.score(X_test, y_test)\n",
        "\n",
        "print(f\"Training Accuracy: {train_accuracy}\")\n",
        "print(f\"Test Accuracy: {test_accuracy}\")\n"
      ],
      "metadata": {
        "colab": {
          "base_uri": "https://localhost:8080/"
        },
        "id": "FqjVhWGngDK0",
        "outputId": "970447a8-0878-4eec-fca3-032317614feb"
      },
      "execution_count": 25,
      "outputs": [
        {
          "output_type": "stream",
          "name": "stdout",
          "text": [
            "Training Accuracy: 0.9997445721583652\n",
            "Test Accuracy: 0.8947906026557712\n"
          ]
        }
      ]
    },
    {
      "cell_type": "code",
      "source": [
        "from sklearn.metrics import classification_report, confusion_matrix\n",
        "\n",
        "# Predict the labels\n",
        "y_train_pred = rf_classifier.predict(X_train)\n",
        "y_test_pred = rf_classifier.predict(X_test)\n",
        "\n",
        "# Evaluate on training set\n",
        "print(\"Training Set Metrics:\")\n",
        "print(classification_report(y_train, y_train_pred))\n",
        "print(\"Confusion Matrix:\")\n",
        "print(confusion_matrix(y_train, y_train_pred))\n",
        "\n",
        "# Evaluate on test set\n",
        "print(\"\\nTest Set Metrics:\")\n",
        "print(classification_report(y_test, y_test_pred))\n",
        "print(\"Confusion Matrix:\")\n",
        "print(confusion_matrix(y_test, y_test_pred))\n"
      ],
      "metadata": {
        "colab": {
          "base_uri": "https://localhost:8080/"
        },
        "id": "tQnk3i11g5Bz",
        "outputId": "ad07f175-e25a-440b-f465-3b9d088ae38e"
      },
      "execution_count": 26,
      "outputs": [
        {
          "output_type": "stream",
          "name": "stdout",
          "text": [
            "Training Set Metrics:\n",
            "              precision    recall  f1-score   support\n",
            "\n",
            "           0       1.00      1.00      1.00       578\n",
            "           1       1.00      1.00      1.00      3337\n",
            "\n",
            "    accuracy                           1.00      3915\n",
            "   macro avg       1.00      1.00      1.00      3915\n",
            "weighted avg       1.00      1.00      1.00      3915\n",
            "\n",
            "Confusion Matrix:\n",
            "[[ 577    1]\n",
            " [   0 3337]]\n",
            "\n",
            "Test Set Metrics:\n",
            "              precision    recall  f1-score   support\n",
            "\n",
            "           0       0.64      0.77      0.70       154\n",
            "           1       0.96      0.92      0.94       825\n",
            "\n",
            "    accuracy                           0.89       979\n",
            "   macro avg       0.80      0.85      0.82       979\n",
            "weighted avg       0.91      0.89      0.90       979\n",
            "\n",
            "Confusion Matrix:\n",
            "[[119  35]\n",
            " [ 68 757]]\n"
          ]
        }
      ]
    },
    {
      "cell_type": "code",
      "source": [
        "from sklearn.model_selection import cross_val_score\n",
        "\n",
        "cv_scores = cross_val_score(rf_classifier, X_train, y_train, cv=5, scoring='accuracy')\n",
        "print(\"Cross-Validation Scores:\")\n",
        "print(cv_scores)\n",
        "print(f\"Mean Accuracy: {cv_scores.mean()}\")\n"
      ],
      "metadata": {
        "colab": {
          "base_uri": "https://localhost:8080/"
        },
        "id": "mmfMwLVKhMIc",
        "outputId": "4605fa7d-eb6c-4754-eb7b-d63341a4d768"
      },
      "execution_count": 27,
      "outputs": [
        {
          "output_type": "stream",
          "name": "stdout",
          "text": [
            "Cross-Validation Scores:\n",
            "[0.91060026 0.90166028 0.9054917  0.899106   0.9054917 ]\n",
            "Mean Accuracy: 0.9044699872286079\n"
          ]
        }
      ]
    },
    {
      "cell_type": "code",
      "source": [
        "# Predict the labels on the test set\n",
        "y_pred = rf_classifier.predict(X_test)\n",
        "\n",
        "# Create a DataFrame to compare actual vs predicted labels\n",
        "results = pd.DataFrame({'Actual': y_test, 'Predicted': y_pred})\n",
        "\n",
        "# Display the results\n",
        "print(results)\n"
      ],
      "metadata": {
        "colab": {
          "base_uri": "https://localhost:8080/"
        },
        "id": "ZRdLh_m1iF3-",
        "outputId": "8b95dfe6-3296-4cdf-96e3-2b5a35b25892"
      },
      "execution_count": 28,
      "outputs": [
        {
          "output_type": "stream",
          "name": "stdout",
          "text": [
            "      Actual  Predicted\n",
            "144        0          1\n",
            "79         1          0\n",
            "4627       1          1\n",
            "3832       1          1\n",
            "4581       1          1\n",
            "...      ...        ...\n",
            "964        0          0\n",
            "168        0          0\n",
            "3656       1          1\n",
            "4354       1          1\n",
            "4481       1          1\n",
            "\n",
            "[979 rows x 2 columns]\n"
          ]
        }
      ]
    },
    {
      "cell_type": "code",
      "source": [
        "from imblearn.over_sampling import SMOTE\n",
        "from sklearn.model_selection import train_test_split\n",
        "from collections import Counter\n",
        "\n",
        "\n",
        "# Apply SMOTE\n",
        "smote = SMOTE(random_state=42)\n",
        "X_resampled, y_resampled = smote.fit_resample(X_train, y_train)\n",
        "\n",
        "# Check the class distribution after resampling\n",
        "print(\"Class distribution after resampling:\", Counter(y_resampled))\n",
        "\n",
        "# Now, use X_resampled and y_resampled for training your model\n"
      ],
      "metadata": {
        "colab": {
          "base_uri": "https://localhost:8080/"
        },
        "id": "smUUaJySjDop",
        "outputId": "a7aec0e8-bc18-419d-ce95-379fc341f925"
      },
      "execution_count": 29,
      "outputs": [
        {
          "output_type": "stream",
          "name": "stdout",
          "text": [
            "Class distribution after resampling: Counter({1: 3337, 0: 3337})\n"
          ]
        }
      ]
    },
    {
      "cell_type": "code",
      "source": [
        "import pandas as pd\n",
        "\n",
        "df = pd.DataFrame({'Actual': y_test, 'Predicted': y_pred})\n",
        "\n",
        "\n",
        "df['Correct Prediction'] = df['Actual'] == df['Predicted']\n",
        "\n",
        "# Print the DataFrame to inspect the predictions\n",
        "print(df)\n"
      ],
      "metadata": {
        "colab": {
          "base_uri": "https://localhost:8080/"
        },
        "id": "XtMf70avk9Wf",
        "outputId": "8235c482-fa6f-45ec-bfdb-e90498c53aa2"
      },
      "execution_count": 30,
      "outputs": [
        {
          "output_type": "stream",
          "name": "stdout",
          "text": [
            "      Actual  Predicted  Correct Prediction\n",
            "144        0          1               False\n",
            "79         1          0               False\n",
            "4627       1          1                True\n",
            "3832       1          1                True\n",
            "4581       1          1                True\n",
            "...      ...        ...                 ...\n",
            "964        0          0                True\n",
            "168        0          0                True\n",
            "3656       1          1                True\n",
            "4354       1          1                True\n",
            "4481       1          1                True\n",
            "\n",
            "[979 rows x 3 columns]\n"
          ]
        }
      ]
    },
    {
      "cell_type": "code",
      "source": [
        "import pandas as pd\n",
        "\n",
        "\n",
        "X_test_df = pd.DataFrame(X_test)\n",
        "\n",
        "# Generate a unique ID for each row\n",
        "X_test_df['ID'] = range(1, len(X_test_df) + 1)\n",
        "\n",
        "predictions_df = pd.DataFrame({'ID': X_test_df['ID'], 'Predictions': y_pred})\n",
        "\n",
        "# Save the predictions to an Excel file\n",
        "predictions_df.to_excel('/content/cdrive/My Drive/Prediction of Placement Status Data/Placement_predictions.xlsx', index=False)\n"
      ],
      "metadata": {
        "id": "8UpHerW2xNxi"
      },
      "execution_count": 31,
      "outputs": []
    },
    {
      "cell_type": "code",
      "source": [],
      "metadata": {
        "id": "kiGqyYXTzQcu"
      },
      "execution_count": null,
      "outputs": []
    }
  ]
}